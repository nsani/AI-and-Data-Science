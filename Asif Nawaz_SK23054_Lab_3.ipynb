{
 "cells": [
  {
   "cell_type": "markdown",
   "id": "cab7786b",
   "metadata": {},
   "source": [
    "Task 1: Write a program that asks the user about the number of values he/she wants to enter. Than\n",
    "enter the values as per the required number, calculate its sum and identify the smallest value among\n",
    "them"
   ]
  },
  {
   "cell_type": "code",
   "execution_count": null,
   "id": "a03445bf",
   "metadata": {},
   "outputs": [],
   "source": [
    "num_value=int(input(\"Enter the Number of value to be input: \")) \n",
    "sum=0\n",
    "smallest_num=None\n",
    "    \n",
    "for i in range(num_value):\n",
    "    value=int(input(\"Enter the number: \"))\n",
    "    sum+=value\n",
    "    \n",
    "    if smallest_num is None or value < smallest_num:\n",
    "        smallest_num = value\n",
    "\n",
    "# Print the sum and smallest value\n",
    "print(\"The Sum is:\", sum)\n",
    "print(\"Smallest value of entered number is:\", smallest_num)\n",
    "   \n",
    "\n",
    "    "
   ]
  },
  {
   "cell_type": "markdown",
   "id": "9a0d4764",
   "metadata": {},
   "source": [
    "The factorial function is used frequently in probability problems. The factorial of a positive\n",
    "integer n (written n! and pronounced “n factorial”) is equal to the product of the positive integers\n",
    "from 1 to n.\n",
    "Write a function factorial that accepts an integer as parameter and returns its factorial.\n",
    "Using the factorial function, write a program that evaluates the factorials of the integers from 1 to 5"
   ]
  },
  {
   "cell_type": "code",
   "execution_count": null,
   "id": "6a74e567",
   "metadata": {},
   "outputs": [],
   "source": [
    "def factorial(n):\n",
    "    result = 1\n",
    "    for i in range(1, n + 1):\n",
    "        result *= i\n",
    "    return result\n",
    "# Using the factorial function to evaluate factorials\n",
    "print(\"X\\tFactorial of X\")\n",
    "for i in range(1, 6):\n",
    "    print(f\"{i} \\t {factorial(i)}\")"
   ]
  },
  {
   "cell_type": "markdown",
   "id": "4271f693",
   "metadata": {},
   "source": [
    "Task 3: Write a program that plays an incredibly stupid number-guessing game. The user will try to\n",
    "guess the secret number until they get it right. That means it will keep looping as long as the guess is\n",
    "different from the secret number. You must store the secret number in a variable, and use that\n",
    "variable throughout. The secret number itself must not appear in the program at all, except in the\n",
    "one line where you store it into a variable. "
   ]
  },
  {
   "cell_type": "code",
   "execution_count": 1,
   "id": "a5a6fddf",
   "metadata": {},
   "outputs": [
    {
     "name": "stdout",
     "output_type": "stream",
     "text": [
      "I have chosen a number (between 1 and 10): 6\n",
      "That's right! You guessed it\n"
     ]
    }
   ],
   "source": [
    "import random\n",
    "\n",
    "# Generate a random secret number between 1 and 10\n",
    "secret_number = random.randint(1, 10)\n",
    "\n",
    "# Initialize the guess variable\n",
    "guess = 0\n",
    "\n",
    "# Start the guessing loop\n",
    "while guess != secret_number:\n",
    "    # Ask the user for a guess\n",
    "    guess = int(input(\"I have chosen a number (between 1 and 10): \"))\n",
    "\n",
    "    # Compare the guess with the secret number\n",
    "    if guess < secret_number:\n",
    "        print(\"Too low! That is incorrect. Guess again\")\n",
    "    elif guess > secret_number:\n",
    "        print(\"Too high! That is incorrect. Guess again\")\n",
    "    else:\n",
    "        print(\"That's right! You guessed it\")"
   ]
  },
  {
   "cell_type": "code",
   "execution_count": null,
   "id": "a6a1f81b",
   "metadata": {},
   "outputs": [],
   "source": []
  },
  {
   "cell_type": "code",
   "execution_count": 6,
   "id": "4e70e3b5",
   "metadata": {},
   "outputs": [
    {
     "name": "stdout",
     "output_type": "stream",
     "text": [
      "Enter the first and second number with space: 6 8\n",
      "The GCD of 6 and 8 is: 2\n"
     ]
    }
   ],
   "source": [
    "def gcd(a, b):\n",
    "    \"\"\"\n",
    "    Calculates the greatest common divisor (GCD) of two integers.\n",
    "    \"\"\"\n",
    "    while b != 0:\n",
    "        a, b = b, a % b\n",
    "    return a\n",
    "\n",
    "# Prompt the user to enter two numbers\n",
    "num1,num2 = input(\"Enter the first and second number with space: \").split(\" \")\n",
    "num1=int(num1)\n",
    "num2=int(num2)\n",
    "# Calculate the GCD using the gcd function\n",
    "gcd_result = gcd(num1, num2)\n",
    "\n",
    "# Print the GCD\n",
    "print(f\"The GCD of {num1} and {num2} is: {gcd_result}\")"
   ]
  },
  {
   "cell_type": "code",
   "execution_count": null,
   "id": "29387e9a",
   "metadata": {},
   "outputs": [],
   "source": []
  },
  {
   "cell_type": "code",
   "execution_count": null,
   "id": "f7f066d0",
   "metadata": {},
   "outputs": [],
   "source": []
  }
 ],
 "metadata": {
  "kernelspec": {
   "display_name": "Python 3 (ipykernel)",
   "language": "python",
   "name": "python3"
  },
  "language_info": {
   "codemirror_mode": {
    "name": "ipython",
    "version": 3
   },
   "file_extension": ".py",
   "mimetype": "text/x-python",
   "name": "python",
   "nbconvert_exporter": "python",
   "pygments_lexer": "ipython3",
   "version": "3.10.9"
  }
 },
 "nbformat": 4,
 "nbformat_minor": 5
}
